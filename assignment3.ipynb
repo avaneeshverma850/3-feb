{
 "cells": [
  {
   "cell_type": "code",
   "execution_count": 1,
   "id": "4dbb090d-5aaf-4736-a128-439409355ddc",
   "metadata": {},
   "outputs": [
    {
     "name": "stdout",
     "output_type": "stream",
     "text": [
      "[1, 3, 5, 7, 9, 11, 13, 15, 17, 19, 21, 23]\n"
     ]
    }
   ],
   "source": [
    "def odd():\n",
    "    l=[]\n",
    "    for i in range(1,25):\n",
    "        if i%2!=0:\n",
    "            l.append(i)\n",
    "    print(l)\n",
    "odd()"
   ]
  },
  {
   "cell_type": "code",
   "execution_count": 4,
   "id": "782633c6-ea72-43b7-b8e3-c406708534bd",
   "metadata": {},
   "outputs": [
    {
     "name": "stdout",
     "output_type": "stream",
     "text": [
      "(1, 2, 3, 4, 5, 6, 7)\n",
      "{'a': [12, 13, 4, 15], 'b': 'avaneesh', 'c': 'verma'}\n"
     ]
    }
   ],
   "source": [
    "#we use *args and **kwargs as an argument when we unsure about the number of arguements to pass in the function\n",
    "def t(*args):\n",
    "    return args\n",
    "s=(1,2,3,4,5,6,7)\n",
    "x=t(*s)\n",
    "print(x)\n",
    "def t2(**kwargs):\n",
    "    return kwargs\n",
    "x={'a':[12,13,4,15],'b':'avaneesh','c':'verma'}\n",
    "y=t2(**x)\n",
    "print(y)\n"
   ]
  },
  {
   "cell_type": "code",
   "execution_count": 7,
   "id": "fb02ed0b-d41a-4b3d-8bbf-70386d1bba2e",
   "metadata": {},
   "outputs": [
    {
     "name": "stdout",
     "output_type": "stream",
     "text": [
      "2\n",
      "4\n",
      "6\n",
      "8\n",
      "10\n"
     ]
    }
   ],
   "source": [
    "\"\"\"iterator-an iterator can be seen as a pointer to a container.in python iterator is emplicity available in for loop.the element of a container are set,list,tuple)\n",
    "method-we used here iter() and next() function here\"\"\"\n",
    "l=[2,4,6,8,10,12,14,16,18,20]\n",
    "x=iter(l)\n",
    "print(next(x))\n",
    "print(next(x))\n",
    "print(next(x))\n",
    "print(next(x))\n",
    "print(next(x))"
   ]
  },
  {
   "cell_type": "code",
   "execution_count": 9,
   "id": "64327008-c32a-4892-b5a0-3407fc361076",
   "metadata": {},
   "outputs": [
    {
     "name": "stdout",
     "output_type": "stream",
     "text": [
      "10 20 30 "
     ]
    }
   ],
   "source": [
    "\"\"\"Generator-a generator is called like a function.it is defined like a normal function but it geneates value through yield keyword.in simple \n",
    "word if the body of def containes yield the function is generator function.\n",
    "Use of yield- yield can return value one by one and function not end if the value return.yield process the execution.\n",
    "example of generator\"\"\"\n",
    "def f1():\n",
    "    yield 10 \n",
    "    yield 20\n",
    "    yield 30\n",
    "g=f1()\n",
    "for e in g:\n",
    "    print(e,end=' ')"
   ]
  },
  {
   "cell_type": "code",
   "execution_count": 42,
   "id": "e0885ac1-f1b6-4469-99cf-c222f75cce1b",
   "metadata": {},
   "outputs": [
    {
     "name": "stdout",
     "output_type": "stream",
     "text": [
      "2\n",
      "3\n",
      "5\n",
      "7\n",
      "11\n",
      "13\n",
      "17\n",
      "19\n",
      "23\n",
      "29\n",
      "31\n",
      "37\n",
      "41\n",
      "43\n",
      "47\n",
      "53\n",
      "59\n",
      "61\n",
      "67\n",
      "71\n"
     ]
    }
   ],
   "source": [
    "def prime():\n",
    "    for i in range(2,1000):\n",
    "        count=0\n",
    "        for j in range(2,i):\n",
    "            if(i%j==0):\n",
    "                count=count+1\n",
    "                break\n",
    "        if count==0:\n",
    "                yield i\n",
    "g=prime()\n",
    "print(next(g))\n",
    "print(next(g))\n",
    "print(next(g))\n",
    "print(next(g))\n",
    "print(next(g))\n",
    "print(next(g))\n",
    "print(next(g))\n",
    "print(next(g))\n",
    "print(next(g))\n",
    "print(next(g))\n",
    "print(next(g))\n",
    "print(next(g))\n",
    "print(next(g))\n",
    "print(next(g))\n",
    "print(next(g))\n",
    "print(next(g))\n",
    "print(next(g))\n",
    "print(next(g))\n",
    "print(next(g))\n",
    "print(next(g))\n"
   ]
  },
  {
   "cell_type": "code",
   "execution_count": 46,
   "id": "da4f86ec-709a-4af5-b21a-30a32341e1b8",
   "metadata": {},
   "outputs": [
    {
     "name": "stdout",
     "output_type": "stream",
     "text": [
      "0 1 1 2 3 5 8 13 21 34 "
     ]
    }
   ],
   "source": [
    "i=10\n",
    "a=0\n",
    "b=1\n",
    "while i>0:\n",
    "    print(a,end=' ')\n",
    "    c=a+b\n",
    "    a=b\n",
    "    b=c\n",
    "    i=i-1"
   ]
  },
  {
   "cell_type": "code",
   "execution_count": 48,
   "id": "d7f03f86-b6da-4b15-89cd-c9d21aa429c7",
   "metadata": {},
   "outputs": [
    {
     "data": {
      "text/plain": [
       "['p', 'w', 's', 'k', 'i', 'l', 'l', 's']"
      ]
     },
     "execution_count": 48,
     "metadata": {},
     "output_type": "execute_result"
    }
   ],
   "source": [
    "z='pwskills'\n",
    "[s for s in z]\n"
   ]
  },
  {
   "cell_type": "code",
   "execution_count": 53,
   "id": "1bc5f7aa-00c9-4c43-b13c-800974a7df98",
   "metadata": {},
   "outputs": [
    {
     "name": "stdin",
     "output_type": "stream",
     "text": [
      "enter number: 141\n"
     ]
    },
    {
     "name": "stdout",
     "output_type": "stream",
     "text": [
      "it is pallidrone number\n"
     ]
    }
   ],
   "source": [
    "x=int(input(\"enter number:\"))\n",
    "tem=x\n",
    "rev=0\n",
    "while tem>0:\n",
    "    rem=tem%10\n",
    "    rev=rev*10+rem\n",
    "    tem=tem//10\n",
    "if(x==rev):\n",
    "    print(\"it is pallidrone number\")\n",
    "else:\n",
    "    print(\"it is not pallidrone number\")"
   ]
  },
  {
   "cell_type": "code",
   "execution_count": 62,
   "id": "2ec235a3-b160-4289-bc34-ddd35ca322a4",
   "metadata": {},
   "outputs": [
    {
     "name": "stdout",
     "output_type": "stream",
     "text": [
      "<filter object at 0x7feb614e7b80>\n"
     ]
    }
   ],
   "source": [
    "l=[]\n",
    "for i in range(1,100):\n",
    "    l.append(i)\n",
    "def odd(a):\n",
    "    if a%2!=0:\n",
    "        return a\n",
    "y=filter(odd,l)\n",
    "print(list(y))"
   ]
  },
  {
   "cell_type": "code",
   "execution_count": null,
   "id": "58fa5b3c-cc7a-4c4b-aa89-4b3d4a5e8b0a",
   "metadata": {},
   "outputs": [],
   "source": []
  }
 ],
 "metadata": {
  "kernelspec": {
   "display_name": "Python 3 (ipykernel)",
   "language": "python",
   "name": "python3"
  },
  "language_info": {
   "codemirror_mode": {
    "name": "ipython",
    "version": 3
   },
   "file_extension": ".py",
   "mimetype": "text/x-python",
   "name": "python",
   "nbconvert_exporter": "python",
   "pygments_lexer": "ipython3",
   "version": "3.10.8"
  }
 },
 "nbformat": 4,
 "nbformat_minor": 5
}
